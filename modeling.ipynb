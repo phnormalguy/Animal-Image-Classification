{
 "cells": [
  {
   "cell_type": "markdown",
   "id": "4cf43c4e",
   "metadata": {},
   "source": [
    "Image Path:\n",
    "\n",
    "/home/june/.cache/kagglehub/datasets/borhanitrash/animal-image-classification-dataset/versions/1"
   ]
  },
  {
   "cell_type": "code",
   "execution_count": 36,
   "id": "e03bcf29",
   "metadata": {},
   "outputs": [],
   "source": [
    "import os\n",
    "import numpy as np\n",
    "from PIL import Image\n",
    "import torch\n",
    "import torch.nn as nn\n",
    "import torch.nn.functional as F\n",
    "import torch.optim as optim\n",
    "\n",
    "import torchvision.transforms as transforms\n",
    "import torchvision\n",
    "from torch.utils.data import random_split"
   ]
  },
  {
   "cell_type": "code",
   "execution_count": 37,
   "id": "eb85887f",
   "metadata": {},
   "outputs": [],
   "source": [
    "dir_path = \"/home/june/.cache/kagglehub/datasets/borhanitrash/animal-image-classification-dataset/versions/1/Animals/\"\n",
    "cats = dir_path + \"/cats\"\n",
    "dogs = dir_path + \"/dogs\"\n",
    "snakes = dir_path + \"/snakes\""
   ]
  },
  {
   "cell_type": "code",
   "execution_count": 38,
   "id": "2288b48a",
   "metadata": {},
   "outputs": [],
   "source": [
    "\n",
    "# Get all image file paths for each animal\n",
    "cat_paths = [os.path.join(cats, fname) for fname in os.listdir(cats) if os.path.isfile(os.path.join(cats, fname))]\n",
    "dog_paths = [os.path.join(dogs, fname) for fname in os.listdir(dogs) if os.path.isfile(os.path.join(dogs, fname))]\n",
    "snake_paths = [os.path.join(snakes, fname) for fname in os.listdir(snakes) if os.path.isfile(os.path.join(snakes, fname))]\n",
    "\n",
    "\n",
    "image_paths = cat_paths + dog_paths + snake_paths\n",
    "labels = [0] * len(cat_paths) + [1] * len(dog_paths) + [2] * len(snake_paths)  # 0: cat, 1: dog, 2: snake\n",
    "class_names = ['cat', 'dog', 'snake']\n",
    "\n",
    "# print(labels)\n",
    "\n"
   ]
  },
  {
   "cell_type": "code",
   "execution_count": 39,
   "id": "9abfd481",
   "metadata": {},
   "outputs": [],
   "source": [
    "data_transforms = transforms.Compose([\n",
    "    transforms.ToTensor(),\n",
    "    transforms.Normalize((0.5, 0.5, 0.5), (0.5, 0.5, 0.5))\n",
    "])\n",
    "\n",
    "class AnimalDataset(torch.utils.data.Dataset):\n",
    "    def __init__(self, image_paths, labels, transform=data_transforms):\n",
    "        self.image_paths = image_paths\n",
    "        self.labels = labels\n",
    "        self.transform = transform\n",
    "\n",
    "    def __len__(self):\n",
    "        return len(self.image_paths)\n",
    "\n",
    "    def __getitem__(self, idx):\n",
    "        image = Image.open(self.image_paths[idx]).convert('RGB')\n",
    "        if self.transform:\n",
    "            image = self.transform(image)\n",
    "        label = self.labels[idx]\n",
    "        return image, label\n",
    "    \n",
    "    # Helper method to split dataset into train, val, and test sets\n",
    "    def __split__(self, train_ratio=0.7, val_ratio=0.15, test_ratio=0.15, seed=42):\n",
    "        assert abs(train_ratio + val_ratio + test_ratio - 1.0) < 1e-6, \"Ratios must sum to 1\"\n",
    "        dataset_size = len(self)\n",
    "        indices = list(range(dataset_size))\n",
    "        if seed is not None:\n",
    "            np.random.seed(seed)\n",
    "        np.random.shuffle(indices)\n",
    "        train_end = int(train_ratio * dataset_size)\n",
    "        val_end = train_end + int(val_ratio * dataset_size)\n",
    "        train_indices = indices[:train_end]\n",
    "        val_indices = indices[train_end:val_end]\n",
    "        test_indices = indices[val_end:]\n",
    "        train_set = torch.utils.data.Subset(self, train_indices)\n",
    "        val_set = torch.utils.data.Subset(self, val_indices)\n",
    "        test_set = torch.utils.data.Subset(self, test_indices)\n",
    "        return train_set, val_set, test_set\n",
    "\n",
    "dataset = AnimalDataset(image_paths, labels, transform=data_transforms)\n",
    "\n",
    "\n",
    "\n",
    "\n",
    "\n",
    "\n"
   ]
  },
  {
   "cell_type": "code",
   "execution_count": 40,
   "id": "a04e616c",
   "metadata": {},
   "outputs": [
    {
     "name": "stdout",
     "output_type": "stream",
     "text": [
      "Train size: 2100\n",
      "Validation size: 450\n",
      "Test size: 450\n"
     ]
    }
   ],
   "source": [
    "train_dataset, val_dataset, test_dataset = dataset.__split__(train_ratio=0.7, val_ratio=0.15, test_ratio=0.15, seed=42)\n",
    "\n",
    "print(f\"Train size: {len(train_dataset)}\")\n",
    "print(f\"Validation size: {len(val_dataset)}\")\n",
    "print(f\"Test size: {len(test_dataset)}\")"
   ]
  },
  {
   "cell_type": "code",
   "execution_count": 41,
   "id": "fe73a1b8",
   "metadata": {},
   "outputs": [
    {
     "name": "stdout",
     "output_type": "stream",
     "text": [
      "shape of data : torch.Size([3, 256, 256])\n"
     ]
    }
   ],
   "source": [
    "print(f\"shape of data : {dataset[0][0].shape}\")"
   ]
  },
  {
   "cell_type": "code",
   "execution_count": 42,
   "id": "d3f9389c",
   "metadata": {},
   "outputs": [],
   "source": [
    "class NeuralNet(nn.Module):\n",
    "    def __init__(self):\n",
    "        super().__init__()\n",
    "        self.conv1 = nn.Conv2d(3, 16, kernel_size=3, stride=1, padding=1)\n",
    "        self.conv2 = nn.Conv2d(16, 32, kernel_size=3, stride=1, padding=1)\n",
    "        self.conv3 = nn.Conv2d(32, 64, kernel_size=3, stride=1, padding=1)\n",
    "        self.pool = nn.MaxPool2d(kernel_size=2, stride=2, padding=0)\n",
    "        self.fc1 = nn.Linear(64 * 32 * 32, 128)\n",
    "        self.fc2 = nn.Linear(128, 3)  # 3 classes: cat, dog, snake\n",
    "\n",
    "    def forward(self, x):\n",
    "        x = self.pool(F.relu(self.conv1(x)))\n",
    "        x = self.pool(F.relu(self.conv2(x)))\n",
    "        x = self.pool(F.relu(self.conv3(x)))\n",
    "        x = x.view(-1, 64 * 32 * 32)  # Flatten the tensor\n",
    "        x = F.relu(self.fc1(x))\n",
    "        x = self.fc2(x)\n",
    "        return x"
   ]
  },
  {
   "cell_type": "code",
   "execution_count": null,
   "id": "373b4714",
   "metadata": {},
   "outputs": [],
   "source": [
    "net = NeuralNet()\n",
    "device = torch.device(\"cuda\" if torch.cuda.is_available() else \"cpu\")\n",
    "loss_function = nn.CrossEntropyLoss()\n",
    "optimizer = optim.SGD(net.parameters(), lr=0.001,momentum=0.9)"
   ]
  },
  {
   "cell_type": "code",
   "execution_count": null,
   "id": "81ff2aee",
   "metadata": {},
   "outputs": [],
   "source": [
    "for epoch in range(30):\n",
    "    running_loss = 0.0\n",
    "    for i, data in enumerate(train_dataset, 0):\n",
    "        inputs, labels = data\n",
    "        inputs, labels = inputs.to(device), labels.to(device)\n",
    "        \n",
    "        optimizer.zero_grad()\n",
    "        outputs = net(inputs)\n",
    "        loss = loss_function(outputs, labels)\n",
    "        loss.backward()\n",
    "        optimizer.step()\n",
    "        \n",
    "        running_loss += loss.item()\n",
    "        if i % 100 == 99:  # Print every 100 mini-batches\n",
    "            print(f\"[{epoch + 1}, {i + 1}] loss: {running_loss / 100:.3f}\")\n",
    "            running_loss = 0.0"
   ]
  },
  {
   "cell_type": "code",
   "execution_count": null,
   "id": "79e3af7d",
   "metadata": {},
   "outputs": [],
   "source": []
  },
  {
   "cell_type": "code",
   "execution_count": null,
   "id": "cd05eb52",
   "metadata": {},
   "outputs": [],
   "source": []
  }
 ],
 "metadata": {
  "kernelspec": {
   "display_name": "env",
   "language": "python",
   "name": "python3"
  },
  "language_info": {
   "codemirror_mode": {
    "name": "ipython",
    "version": 3
   },
   "file_extension": ".py",
   "mimetype": "text/x-python",
   "name": "python",
   "nbconvert_exporter": "python",
   "pygments_lexer": "ipython3",
   "version": "3.13.3"
  }
 },
 "nbformat": 4,
 "nbformat_minor": 5
}
